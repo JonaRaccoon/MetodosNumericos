{
  "nbformat": 4,
  "nbformat_minor": 0,
  "metadata": {
    "colab": {
      "provenance": [],
      "authorship_tag": "ABX9TyPF/vBezbTYiG55g1N0eKYk",
      "include_colab_link": true
    },
    "kernelspec": {
      "name": "python3",
      "display_name": "Python 3"
    },
    "language_info": {
      "name": "python"
    }
  },
  "cells": [
    {
      "cell_type": "markdown",
      "metadata": {
        "id": "view-in-github",
        "colab_type": "text"
      },
      "source": [
        "<a href=\"https://colab.research.google.com/github/JonaRaccoon/MetodosNumericos/blob/main/Metodo_de_Newton.ipynb\" target=\"_parent\"><img src=\"https://colab.research.google.com/assets/colab-badge.svg\" alt=\"Open In Colab\"/></a>"
      ]
    },
    {
      "cell_type": "code",
      "execution_count": 28,
      "metadata": {
        "id": "aIDUdPKMbWcM"
      },
      "outputs": [],
      "source": [
        "import numpy as np"
      ]
    },
    {
      "cell_type": "code",
      "source": [
        "def f(x):\n",
        "  v=np.cos(x)-x\n",
        "  return v"
      ],
      "metadata": {
        "id": "9Hsv9CMwc5Tz"
      },
      "execution_count": 29,
      "outputs": []
    },
    {
      "cell_type": "code",
      "source": [
        "def fp(x):\n",
        "  u=-np.sin(x)-1\n",
        "  return u"
      ],
      "metadata": {
        "id": "gnj6_-Yxd2K7"
      },
      "execution_count": 30,
      "outputs": []
    },
    {
      "cell_type": "code",
      "source": [
        "a=0.0\n",
        "i=1\n",
        "tabla=[]\n",
        "\n",
        "h=a-(f(a)/fp(a))\n",
        "va=f(h)"
      ],
      "metadata": {
        "id": "bSAfdZpneaOC"
      },
      "execution_count": 35,
      "outputs": []
    },
    {
      "cell_type": "code",
      "source": [
        "while va != 0:\n",
        "        va=f(h)\n",
        "        elemento=[i,a,h,va]\n",
        "        tabla.append(elemento)\n",
        "        a=h\n",
        "        h=a-(f(a)/fp(a))\n",
        "        i+=1"
      ],
      "metadata": {
        "id": "pLrtGCkFfT_7"
      },
      "execution_count": 36,
      "outputs": []
    },
    {
      "cell_type": "code",
      "source": [
        "print(\"{:<4}{:<22}{:<22}{:<22}\".format(\"n\",\"pn\",\"pn+1\",\"f(pn)\"))\n",
        "for i in tabla:\n",
        "    i,a,h,va=i\n",
        "    print(\"{:<4}{:<22}{:<22}{:<22}\".format(i,a,h,va))"
      ],
      "metadata": {
        "colab": {
          "base_uri": "https://localhost:8080/"
        },
        "id": "VQOdB8RpgKkD",
        "outputId": "719c995b-77b5-4747-aa68-53a54c93ebe2"
      },
      "execution_count": 37,
      "outputs": [
        {
          "output_type": "stream",
          "name": "stdout",
          "text": [
            "n   pn                    pn+1                  f(pn)                 \n",
            "1   0.0                   1.0                   -0.45969769413186023  \n",
            "2   1.0                   0.7503638678402439    -0.018923073822117442 \n",
            "3   0.7503638678402439    0.7391128909113617    -4.6455898990771516e-05\n",
            "4   0.7391128909113617    0.739085133385284     -2.847205804457076e-10\n",
            "5   0.739085133385284     0.7390851332151607    0.0                   \n"
          ]
        }
      ]
    }
  ]
}