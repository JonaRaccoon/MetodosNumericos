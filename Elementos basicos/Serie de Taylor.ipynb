{
  "cells": [
    {
      "cell_type": "code",
      "execution_count": 1,
      "id": "78b10ad7",
      "metadata": {
        "id": "78b10ad7"
      },
      "outputs": [],
      "source": [
        "import sympy as sp\n",
        "import numpy as np\n",
        "import matplotlib.pyplot as plt"
      ]
    },
    {
      "cell_type": "code",
      "execution_count": 14,
      "id": "75d7d332",
      "metadata": {
        "id": "75d7d332"
      },
      "outputs": [],
      "source": [
        "x0=0\n",
        "x1=0.6\n",
        "x2=0.9"
      ]
    },
    {
      "cell_type": "code",
      "execution_count": 3,
      "id": "26595981",
      "metadata": {
        "id": "26595981"
      },
      "outputs": [],
      "source": [
        "x=sp.Symbol('x')"
      ]
    },
    {
      "cell_type": "code",
      "execution_count": 15,
      "id": "beafac8b",
      "metadata": {
        "id": "beafac8b",
        "outputId": "f34fb031-dc9c-4801-f01f-513548d44340",
        "colab": {
          "base_uri": "https://localhost:8080/",
          "height": 37
        }
      },
      "outputs": [
        {
          "output_type": "execute_result",
          "data": {
            "text/plain": [
              "-0.105360515657826"
            ],
            "text/latex": "$\\displaystyle -0.105360515657826$"
          },
          "metadata": {},
          "execution_count": 15
        }
      ],
      "source": [
        "sp.ln(x2)"
      ]
    },
    {
      "cell_type": "code",
      "execution_count": 20,
      "id": "675080af",
      "metadata": {
        "colab": {
          "base_uri": "https://localhost:8080/",
          "height": 38
        },
        "id": "675080af",
        "outputId": "2f301487-4442-481a-d215-d1f9e8b70307"
      },
      "outputs": [
        {
          "output_type": "execute_result",
          "data": {
            "text/plain": [
              "1.85185185185185*x**2 - 2.77777777777778*x + 1.0"
            ],
            "text/latex": "$\\displaystyle 1.85185185185185 x^{2} - 2.77777777777778 x + 1.0$"
          },
          "metadata": {},
          "execution_count": 20
        }
      ],
      "source": [
        "l1=sp.expand(((x-x1)*(x-x2))/((x0-x1)*(x0-x2)))\n",
        "l1"
      ]
    },
    {
      "cell_type": "code",
      "execution_count": 23,
      "metadata": {
        "outputId": "d2d2ba7d-ac73-4432-dd73-1fb918a45ff0",
        "colab": {
          "base_uri": "https://localhost:8080/",
          "height": 38
        },
        "id": "I2urBtMNqBwM"
      },
      "outputs": [
        {
          "output_type": "execute_result",
          "data": {
            "text/plain": [
              "-5.55555555555555*x**2 + 5.0*x"
            ],
            "text/latex": "$\\displaystyle - 5.55555555555555 x^{2} + 5.0 x$"
          },
          "metadata": {},
          "execution_count": 23
        }
      ],
      "source": [
        "l2=sp.expand(((x-x0)*(x-x2))/((x1-x0)*(x1-x2)))\n",
        "l2"
      ],
      "id": "I2urBtMNqBwM"
    },
    {
      "cell_type": "code",
      "execution_count": 24,
      "metadata": {
        "outputId": "33f9b80a-64aa-46bf-9930-86bb3086320b",
        "colab": {
          "base_uri": "https://localhost:8080/",
          "height": 38
        },
        "id": "YXHxEXFJp_5M"
      },
      "outputs": [
        {
          "output_type": "execute_result",
          "data": {
            "text/plain": [
              "3.7037037037037*x**2 - 2.22222222222222*x"
            ],
            "text/latex": "$\\displaystyle 3.7037037037037 x^{2} - 2.22222222222222 x$"
          },
          "metadata": {},
          "execution_count": 24
        }
      ],
      "source": [
        "l3=sp.expand(((x-x0)*(x-x1))/((x2-x0)*(x2-x1)))\n",
        "l3"
      ],
      "id": "YXHxEXFJp_5M"
    },
    {
      "cell_type": "code",
      "execution_count": 25,
      "id": "1ff51a2c",
      "metadata": {
        "id": "1ff51a2c",
        "outputId": "ea4865cc-b431-4c5a-a545-276a1653d7cf",
        "colab": {
          "base_uri": "https://localhost:8080/",
          "height": 38
        }
      },
      "outputs": [
        {
          "output_type": "execute_result",
          "data": {
            "text/plain": [
              "2.44769599996726*x**2 + zoo*x**2 - 2.31999363959034*x + zoo*x + zoo"
            ],
            "text/latex": "$\\displaystyle 2.44769599996726 x^{2} + \\tilde{\\infty} x^{2} - 2.31999363959034 x + \\tilde{\\infty} x + \\tilde{\\infty}$"
          },
          "metadata": {},
          "execution_count": 25
        }
      ],
      "source": [
        "px=sp.expand(sp.ln(x0)*l1+sp.ln(x1)*l2+sp.ln(x2)*l3)\n",
        "px"
      ]
    },
    {
      "cell_type": "code",
      "execution_count": null,
      "id": "dd9bd173",
      "metadata": {
        "id": "dd9bd173"
      },
      "outputs": [],
      "source": [
        "expresion"
      ]
    },
    {
      "cell_type": "code",
      "execution_count": null,
      "id": "9ed3dce9",
      "metadata": {
        "id": "9ed3dce9"
      },
      "outputs": [],
      "source": [
        "sp.factor(expresion)"
      ]
    },
    {
      "cell_type": "code",
      "execution_count": null,
      "id": "348e2103",
      "metadata": {
        "id": "348e2103"
      },
      "outputs": [],
      "source": [
        "t=sp.cos(x).series(x,x0,n).removeO()\n",
        "print(t)"
      ]
    },
    {
      "cell_type": "code",
      "execution_count": null,
      "id": "e45ce177",
      "metadata": {
        "id": "e45ce177"
      },
      "outputs": [],
      "source": [
        "t"
      ]
    },
    {
      "cell_type": "code",
      "execution_count": null,
      "id": "715d9e4c",
      "metadata": {
        "id": "715d9e4c"
      },
      "outputs": [],
      "source": [
        "t=sp.lambdify(x,t,'numpy')"
      ]
    },
    {
      "cell_type": "code",
      "execution_count": null,
      "id": "fbe77aaa",
      "metadata": {
        "id": "fbe77aaa"
      },
      "outputs": [],
      "source": [
        "xx=np.linspace(x0-5,x0+5,1000)\n",
        "yc=np.cos(xx)\n",
        "yt=t(xx)"
      ]
    },
    {
      "cell_type": "code",
      "execution_count": null,
      "id": "6d6d8097",
      "metadata": {
        "id": "6d6d8097"
      },
      "outputs": [],
      "source": [
        "plt.plot(xx,yc,xx,yt)\n",
        "plt.legend(['cos(x)','Serie de Taylor orden 6'])\n",
        "plt.title('Serie de Taylor de $f(x)=cos(x)$')\n",
        "plt.grid(True)\n",
        "\n",
        "#g.savefig('seriet.pdf', bbox_inches='tight')"
      ]
    },
    {
      "cell_type": "code",
      "execution_count": null,
      "id": "38258aad",
      "metadata": {
        "id": "38258aad"
      },
      "outputs": [],
      "source": []
    }
  ],
  "metadata": {
    "kernelspec": {
      "display_name": "Python 3 (ipykernel)",
      "language": "python",
      "name": "python3"
    },
    "language_info": {
      "codemirror_mode": {
        "name": "ipython",
        "version": 3
      },
      "file_extension": ".py",
      "mimetype": "text/x-python",
      "name": "python",
      "nbconvert_exporter": "python",
      "pygments_lexer": "ipython3",
      "version": "3.7.3"
    },
    "colab": {
      "provenance": []
    }
  },
  "nbformat": 4,
  "nbformat_minor": 5
}