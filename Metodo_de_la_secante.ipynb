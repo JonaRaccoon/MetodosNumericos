{
  "nbformat": 4,
  "nbformat_minor": 0,
  "metadata": {
    "colab": {
      "provenance": [],
      "authorship_tag": "ABX9TyNTeM7+f/+TMfxD3vhduRFi",
      "include_colab_link": true
    },
    "kernelspec": {
      "name": "python3",
      "display_name": "Python 3"
    },
    "language_info": {
      "name": "python"
    }
  },
  "cells": [
    {
      "cell_type": "markdown",
      "metadata": {
        "id": "view-in-github",
        "colab_type": "text"
      },
      "source": [
        "<a href=\"https://colab.research.google.com/github/JonaRaccoon/MetodosNumericos/blob/main/Metodo_de_la_secante.ipynb\" target=\"_parent\"><img src=\"https://colab.research.google.com/assets/colab-badge.svg\" alt=\"Open In Colab\"/></a>"
      ]
    },
    {
      "cell_type": "code",
      "execution_count": 2,
      "metadata": {
        "id": "yuFMnmFKgctF"
      },
      "outputs": [],
      "source": [
        "import numpy as np"
      ]
    },
    {
      "cell_type": "code",
      "source": [
        "def f(x):\n",
        "  v=np.cos(x)-x\n",
        "  return v"
      ],
      "metadata": {
        "id": "cFq_wd0KhsaL"
      },
      "execution_count": 3,
      "outputs": []
    },
    {
      "cell_type": "code",
      "source": [
        "a=0.0\n",
        "b=1\n",
        "i=1\n",
        "tabla=[]\n",
        "\n",
        "h=b-f(b)*((b-a)/(f(b)-f(a)))\n",
        "va=f(h)"
      ],
      "metadata": {
        "colab": {
          "base_uri": "https://localhost:8080/"
        },
        "id": "QqrdHLHKhuCD",
        "outputId": "f67832cc-09dc-4ae9-e90d-95f1bee79f06"
      },
      "execution_count": 81,
      "outputs": [
        {
          "output_type": "stream",
          "name": "stdout",
          "text": [
            "0.6850733573260451 0.08929927648185998 1.0 -0.45969769413186023\n"
          ]
        }
      ]
    },
    {
      "cell_type": "code",
      "source": [
        "while (va != 0) and (f(a) != f(b)):\n",
        "        va=f(h)\n",
        "        elemento=[i,a,b,h,va]\n",
        "        tabla.append(elemento)\n",
        "        a=b\n",
        "        b=h\n",
        "        h=b-f(b)*((b-a)/(f(b)-f(a)))\n",
        "        i+=1\n",
        "        print(h)"
      ],
      "metadata": {
        "colab": {
          "base_uri": "https://localhost:8080/"
        },
        "id": "5kQwgKpThv_T",
        "outputId": "654cb2fb-d2aa-4ac5-9679-59993f40a474"
      },
      "execution_count": 82,
      "outputs": [
        {
          "output_type": "stream",
          "name": "stdout",
          "text": [
            "0.736298997613654\n",
            "0.7391193619116293\n",
            "0.7390851121274639\n",
            "0.7390851332150012\n",
            "0.7390851332151607\n",
            "0.7390851332151607\n"
          ]
        }
      ]
    },
    {
      "cell_type": "code",
      "source": [
        "print(\"{:<4}{:<22}{:<22}{:<22}{:<22}\".format(\"n\",\"an\",\"bn\",\"pn\",\"f(pn)\"))\n",
        "for i in tabla:\n",
        "    i,a,b,h,va=i\n",
        "    print(\"{:<4}{:<22}{:<22}{:<22}{:<22}\".format(i,a,b,h,va))"
      ],
      "metadata": {
        "colab": {
          "base_uri": "https://localhost:8080/"
        },
        "id": "Fcr43E5Uhx7z",
        "outputId": "d8e52d12-e267-4e85-e267-584273b276f1"
      },
      "execution_count": 84,
      "outputs": [
        {
          "output_type": "stream",
          "name": "stdout",
          "text": [
            "n   an                    bn                    pn                    f(pn)                 \n",
            "1   0.0                   1                     0.6850733573260451    0.08929927648185998   \n",
            "2   1                     0.6850733573260451    0.736298997613654     0.004660039038142605  \n",
            "3   0.6850733573260451    0.736298997613654     0.7391193619116293    -5.7285991106104106e-05\n",
            "4   0.736298997613654     0.7391193619116293    0.7390851121274639    3.52926228242012e-08  \n",
            "5   0.7391193619116293    0.7390851121274639    0.7390851332150012    2.667865928174251e-13 \n",
            "6   0.7390851121274639    0.7390851332150012    0.7390851332151607    0.0                   \n"
          ]
        }
      ]
    }
  ]
}